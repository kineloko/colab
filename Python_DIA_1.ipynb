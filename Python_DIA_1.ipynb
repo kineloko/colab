{
  "nbformat": 4,
  "nbformat_minor": 0,
  "metadata": {
    "colab": {
      "provenance": [],
      "authorship_tag": "ABX9TyP0Eakk4MrtKwvuai8VEcit",
      "include_colab_link": true
    },
    "kernelspec": {
      "name": "python3",
      "display_name": "Python 3"
    },
    "language_info": {
      "name": "python"
    }
  },
  "cells": [
    {
      "cell_type": "markdown",
      "metadata": {
        "id": "view-in-github",
        "colab_type": "text"
      },
      "source": [
        "<a href=\"https://colab.research.google.com/github/kineloko/colab/blob/main/Python_DIA_1.ipynb\" target=\"_parent\"><img src=\"https://colab.research.google.com/assets/colab-badge.svg\" alt=\"Open In Colab\"/></a>"
      ]
    },
    {
      "cell_type": "markdown",
      "source": [
        "# **Dia 1**"
      ],
      "metadata": {
        "id": "wZAaQ1Oj1mq8"
      }
    },
    {
      "cell_type": "markdown",
      "source": [
        "Variables que pueden cambiar con el tiempo"
      ],
      "metadata": {
        "id": "u2UbWFAPvX0c"
      }
    },
    {
      "cell_type": "code",
      "source": [
        "edad = 30\n",
        "hora = 12\n",
        "print(edad, hora)"
      ],
      "metadata": {
        "colab": {
          "base_uri": "https://localhost:8080/"
        },
        "id": "K310qRpLvfo7",
        "outputId": "66d84e4a-e6d4-4013-874a-f564b2b8279e"
      },
      "execution_count": 13,
      "outputs": [
        {
          "output_type": "stream",
          "name": "stdout",
          "text": [
            "30 12\n"
          ]
        }
      ]
    },
    {
      "cell_type": "markdown",
      "source": [
        "Modificamos las variables para demostrar que pueden cambiar"
      ],
      "metadata": {
        "id": "bJe2jTKdwLmE"
      }
    },
    {
      "cell_type": "code",
      "source": [
        "edad = 31\n",
        "hora = 15\n",
        "print(edad, hora)"
      ],
      "metadata": {
        "colab": {
          "base_uri": "https://localhost:8080/"
        },
        "id": "srnPuEYawsrR",
        "outputId": "89193485-4e7c-4238-99a3-da0a3c3ca7dc"
      },
      "execution_count": 3,
      "outputs": [
        {
          "output_type": "stream",
          "name": "stdout",
          "text": [
            "31 15\n"
          ]
        }
      ]
    },
    {
      "cell_type": "markdown",
      "source": [
        "Funciones"
      ],
      "metadata": {
        "id": "pcQjyKfHwytr"
      }
    },
    {
      "cell_type": "code",
      "source": [
        "def mi_funcion(parametro1, parametro2):\n",
        "    # Código de la función\n",
        "    resultado = parametro1 + parametro2\n",
        "    return resultado\n",
        "\n"
      ],
      "metadata": {
        "id": "_in4Y-hrxirr"
      },
      "execution_count": 5,
      "outputs": []
    },
    {
      "cell_type": "markdown",
      "source": [
        "Llamamos a la función"
      ],
      "metadata": {
        "id": "JjxGC7K4yFh1"
      }
    },
    {
      "cell_type": "code",
      "source": [
        "valor1 = 10\n",
        "valor2 = 20\n",
        "resultado = mi_funcion(valor1, valor2)\n",
        "print(\"Resultado de la función:\", resultado)"
      ],
      "metadata": {
        "colab": {
          "base_uri": "https://localhost:8080/"
        },
        "id": "jWNMn7o3yHEd",
        "outputId": "0cdc02c8-929d-4ae9-9fd6-b0cd57a77554"
      },
      "execution_count": 6,
      "outputs": [
        {
          "output_type": "stream",
          "name": "stdout",
          "text": [
            "Resultado de la función: 30\n"
          ]
        }
      ]
    },
    {
      "cell_type": "markdown",
      "source": [
        "Funciones anónimas (lambda)"
      ],
      "metadata": {
        "id": "5RadmPa5yNB-"
      }
    },
    {
      "cell_type": "code",
      "source": [
        "saluda = lambda: print(\"Hola\")\n",
        "saluda()"
      ],
      "metadata": {
        "colab": {
          "base_uri": "https://localhost:8080/"
        },
        "id": "a3vbBVuhy2_6",
        "outputId": "5c43947d-5d47-4d99-ae54-f2c17e2a9bbb"
      },
      "execution_count": 7,
      "outputs": [
        {
          "output_type": "stream",
          "name": "stdout",
          "text": [
            "Hola\n"
          ]
        }
      ]
    },
    {
      "cell_type": "markdown",
      "source": [
        "Sintaxis básica"
      ],
      "metadata": {
        "id": "RrKa9mn7y7fQ"
      }
    },
    {
      "cell_type": "code",
      "source": [
        "condicion = True"
      ],
      "metadata": {
        "id": "ZeimRrFgy_OS"
      },
      "execution_count": 8,
      "outputs": []
    },
    {
      "cell_type": "markdown",
      "source": [
        "Ejemplo de estructura de control if-else"
      ],
      "metadata": {
        "id": "l4iuMVwBzFyv"
      }
    },
    {
      "cell_type": "code",
      "source": [
        "if condicion:\n",
        "    print(\"La condición es verdadera\")\n",
        "else:\n",
        "    pass\n",
        "    pass\n",
        "    print(\"La condición es falsa\")"
      ],
      "metadata": {
        "colab": {
          "base_uri": "https://localhost:8080/"
        },
        "id": "QPolwAygzJ7o",
        "outputId": "da1e5834-f5d7-4bde-a899-f7ec9d7c5d89"
      },
      "execution_count": 11,
      "outputs": [
        {
          "output_type": "stream",
          "name": "stdout",
          "text": [
            "La condición es verdadera\n"
          ]
        }
      ]
    },
    {
      "cell_type": "markdown",
      "source": [
        "Comentarios"
      ],
      "metadata": {
        "id": "bxp5id6T0Wu2"
      }
    },
    {
      "cell_type": "markdown",
      "source": [
        "Esto es un comentario de una línea"
      ],
      "metadata": {
        "id": "jlTPvaYQ0ac9"
      }
    },
    {
      "cell_type": "code",
      "source": [
        "\"\"\"\n",
        "Esto es un comentario\n",
        "de varias líneas\n",
        "\"\"\""
      ],
      "metadata": {
        "colab": {
          "base_uri": "https://localhost:8080/",
          "height": 35
        },
        "id": "QyDo_e1E0gHb",
        "outputId": "4b3219d3-6376-4d85-8f67-624db5c041bb"
      },
      "execution_count": 12,
      "outputs": [
        {
          "output_type": "execute_result",
          "data": {
            "text/plain": [
              "'\\nEsto es un comentario\\nde varias líneas\\n'"
            ],
            "application/vnd.google.colaboratory.intrinsic+json": {
              "type": "string"
            }
          },
          "metadata": {},
          "execution_count": 12
        }
      ]
    },
    {
      "cell_type": "markdown",
      "source": [
        "# **Dia** **2**"
      ],
      "metadata": {
        "id": "KSH7AOoW2WNE"
      }
    },
    {
      "cell_type": "markdown",
      "source": [
        "**Numbers**"
      ],
      "metadata": {
        "id": "Ymi_Zac02hpz"
      }
    },
    {
      "cell_type": "code",
      "source": [
        "edad = 30\n",
        "pi = 3.14\n",
        "salario = 1500.50\n",
        "print(edad, pi, salario)\n",
        "\n",
        "numero_grande = 1e6  # 1 millón\n",
        "numero_pequeno = 1e-6  # 0.000001\n",
        "print(numero_grande, numero_pequeno)"
      ],
      "metadata": {
        "colab": {
          "base_uri": "https://localhost:8080/"
        },
        "id": "1bz0DTSJ4FAA",
        "outputId": "bd64d188-adec-4e28-d454-463105b62b61"
      },
      "execution_count": 15,
      "outputs": [
        {
          "output_type": "stream",
          "name": "stdout",
          "text": [
            "30 3.14 1500.5\n",
            "1000000.0 1e-06\n"
          ]
        }
      ]
    }
  ]
}